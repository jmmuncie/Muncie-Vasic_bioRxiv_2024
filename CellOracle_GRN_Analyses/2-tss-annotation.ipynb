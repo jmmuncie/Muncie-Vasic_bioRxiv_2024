{
 "cells": [
  {
   "cell_type": "markdown",
   "id": "18630f2d-9cdc-4114-bc42-bcbcbeda5516",
   "metadata": {},
   "source": [
    "# Annotate TSS\n",
    "\n",
    "Before building the base GRN, we need to annotate the coaccessible peaks and filter our active promoter/enhancer elements. First, we will identify the peaks around transcription starting sites (TSS). We will then merge the Cicero data with the TSS peak information and filter any peaks with weak connections to the TSS peaks. As such, the filtered peak data will only include TSS peaks and peaks with strong TSS connections. These will be our active promoter/enhancer elements for our base GRN.\n",
    "\n",
    "\n",
    "Most of this code is from the CellOracle tutorial: https://morris-lab.github.io/CellOracle.documentation/notebooks/01_ATAC-seq_data_processing/option1_scATAC-seq_data_analysis_with_cicero/02_preprocess_peak_data.html\n",
    "\n",
    "### 1. Import libraries"
   ]
  },
  {
   "cell_type": "code",
   "execution_count": 1,
   "id": "248c902e-af6f-4b72-8d85-4c10ab69e81e",
   "metadata": {
    "tags": []
   },
   "outputs": [],
   "source": [
    "import pandas as pd\n",
    "import numpy as np\n",
    "import matplotlib.pyplot as plt\n",
    "%matplotlib inline\n",
    "\n",
    "import seaborn as sns\n",
    "\n",
    "\n",
    "import os, sys, shutil, importlib, glob\n",
    "from tqdm.notebook import tqdm\n",
    "\n",
    "%config InlineBackend.figure_format = 'retina'\n",
    "\n",
    "plt.rcParams['figure.figsize'] = [6, 4.5]\n",
    "plt.rcParams[\"savefig.dpi\"] = 300"
   ]
  },
  {
   "cell_type": "code",
   "execution_count": 2,
   "id": "01922b2b-2de4-4bdd-9c85-0bfda7a7a29d",
   "metadata": {
    "tags": []
   },
   "outputs": [],
   "source": [
    "bedtools_gcc_path = '/project/clark-saucerman/bedtools2/bin:/apps/software/standard/core/gcc/12.2.0/bin'\n",
    "original_path = os.environ.get('PATH')\n",
    "os.environ['PATH'] = bedtools_gcc_path + ':' + original_path\n",
    "lib_path = '/apps/software/standard/core/gcc/12.2.0/lib64'  # Adjust the path if necessary\n",
    "os.environ['LD_LIBRARY_PATH'] = lib_path + ':' + os.environ.get('LD_LIBRARY_PATH', '')"
   ]
  },
  {
   "cell_type": "code",
   "execution_count": 3,
   "id": "ab273ba7-240d-4280-81e7-94181eed500f",
   "metadata": {
    "tags": []
   },
   "outputs": [
    {
     "name": "stderr",
     "output_type": "stream",
     "text": [
      "which: no R in (/project/clark-saucerman/bedtools2/bin:/apps/software/standard/core/gcc/12.2.0/bin:/apps/software/standard/core/jupyterlab/3.6.3-py3.11:/apps/software/standard/core/jupyterlab/3.6.3-py3.11/sbin:/apps/software/standard/core/jupyterlab/3.6.3-py3.11/bin:/home/apc5un/bedtools2/bin:/opt/mam/9.1.2/bin:/usr/local/bin:/usr/bin:/usr/local/sbin:/usr/sbin:/opt/slurm/current/bin:/opt/singularity/current/bin:/opt/rci/bin:/share/rci_apps/common/bin:/share/resources/HPCtools:/opt/mam/current/bin:/opt/apptainer/current/bin)\n"
     ]
    },
    {
     "data": {
      "text/plain": [
       "'0.14.0'"
      ]
     },
     "execution_count": 3,
     "metadata": {},
     "output_type": "execute_result"
    }
   ],
   "source": [
    "import warnings\n",
    "warnings.filterwarnings('ignore')\n",
    "from celloracle import motif_analysis as ma\n",
    "import celloracle as co\n",
    "co.__version__"
   ]
  },
  {
   "cell_type": "markdown",
   "id": "2fd14385-fdd7-4fcc-b92e-17d29b9a514d",
   "metadata": {},
   "source": [
    "### 2. Load scATAC peak data and peak connection data made with Cicero\n",
    "\n",
    "In this notebook, we will annotate and filter output from Cicero. Refer to data output from `make-cicero.R`.\n",
    "\n",
    "Here, I will use either the pan-cardiac cicero connections, or cluster-by-cluster connections.\n",
    "\n",
    "Below, I load the peaks and cicero CSV files. You'll do this for each timepoint and both WT/KO conditions."
   ]
  },
  {
   "cell_type": "code",
   "execution_count": 4,
   "id": "2ac5dec9-def3-48be-b1ff-0a07a8389c74",
   "metadata": {
    "tags": []
   },
   "outputs": [
    {
     "data": {
      "text/plain": [
       "array(['chr1_3030285_3030785', 'chr1_3057453_3057953',\n",
       "       'chr1_3191883_3192383', ..., 'chrX_169911084_169911584',\n",
       "       'chrX_169933721_169934221', 'chrX_169935904_169936404'],\n",
       "      dtype=object)"
      ]
     },
     "execution_count": 4,
     "metadata": {},
     "output_type": "execute_result"
    }
   ],
   "source": [
    "timepoint = \"E85\"\n",
    "# wt_or_ko = \"WT\"\n",
    "peaks = pd.read_csv(f\"./data/base_grn_outputs/{timepoint}/peaks.csv\", index_col=0)\n",
    "peaks = peaks.x.values\n",
    "peaks"
   ]
  },
  {
   "cell_type": "code",
   "execution_count": 5,
   "id": "59a1ecac-2f27-4cc7-ba3a-12cf20194bc9",
   "metadata": {
    "tags": []
   },
   "outputs": [
    {
     "data": {
      "text/html": [
       "<div>\n",
       "<style scoped>\n",
       "    .dataframe tbody tr th:only-of-type {\n",
       "        vertical-align: middle;\n",
       "    }\n",
       "\n",
       "    .dataframe tbody tr th {\n",
       "        vertical-align: top;\n",
       "    }\n",
       "\n",
       "    .dataframe thead th {\n",
       "        text-align: right;\n",
       "    }\n",
       "</style>\n",
       "<table border=\"1\" class=\"dataframe\">\n",
       "  <thead>\n",
       "    <tr style=\"text-align: right;\">\n",
       "      <th></th>\n",
       "      <th>Peak1</th>\n",
       "      <th>Peak2</th>\n",
       "      <th>coaccess</th>\n",
       "    </tr>\n",
       "  </thead>\n",
       "  <tbody>\n",
       "    <tr>\n",
       "      <th>1</th>\n",
       "      <td>chr10_100014083_100014583</td>\n",
       "      <td>chr10_99759099_99759599</td>\n",
       "      <td>0.000000</td>\n",
       "    </tr>\n",
       "    <tr>\n",
       "      <th>2</th>\n",
       "      <td>chr10_100014083_100014583</td>\n",
       "      <td>chr10_99824387_99824887</td>\n",
       "      <td>0.000000</td>\n",
       "    </tr>\n",
       "    <tr>\n",
       "      <th>3</th>\n",
       "      <td>chr10_100014083_100014583</td>\n",
       "      <td>chr10_99841329_99841829</td>\n",
       "      <td>0.000000</td>\n",
       "    </tr>\n",
       "    <tr>\n",
       "      <th>4</th>\n",
       "      <td>chr10_100014083_100014583</td>\n",
       "      <td>chr10_99875647_99876147</td>\n",
       "      <td>0.000000</td>\n",
       "    </tr>\n",
       "    <tr>\n",
       "      <th>5</th>\n",
       "      <td>chr10_100014083_100014583</td>\n",
       "      <td>chr10_99882667_99883167</td>\n",
       "      <td>-0.000439</td>\n",
       "    </tr>\n",
       "    <tr>\n",
       "      <th>...</th>\n",
       "      <td>...</td>\n",
       "      <td>...</td>\n",
       "      <td>...</td>\n",
       "    </tr>\n",
       "    <tr>\n",
       "      <th>22950869</th>\n",
       "      <td>chrX_99976238_99976738</td>\n",
       "      <td>chrX_99974318_99974818</td>\n",
       "      <td>-0.020320</td>\n",
       "    </tr>\n",
       "    <tr>\n",
       "      <th>22950870</th>\n",
       "      <td>chrX_99976238_99976738</td>\n",
       "      <td>chrX_99975210_99975710</td>\n",
       "      <td>0.117586</td>\n",
       "    </tr>\n",
       "    <tr>\n",
       "      <th>22950872</th>\n",
       "      <td>chrX_99976238_99976738</td>\n",
       "      <td>chrX_100078706_100079206</td>\n",
       "      <td>0.000000</td>\n",
       "    </tr>\n",
       "    <tr>\n",
       "      <th>22950873</th>\n",
       "      <td>chrX_99976238_99976738</td>\n",
       "      <td>chrX_100117571_100118071</td>\n",
       "      <td>0.000000</td>\n",
       "    </tr>\n",
       "    <tr>\n",
       "      <th>22950874</th>\n",
       "      <td>chrX_99976238_99976738</td>\n",
       "      <td>chrX_100118235_100118735</td>\n",
       "      <td>0.000000</td>\n",
       "    </tr>\n",
       "  </tbody>\n",
       "</table>\n",
       "<p>22743986 rows × 3 columns</p>\n",
       "</div>"
      ],
      "text/plain": [
       "                              Peak1                     Peak2  coaccess\n",
       "1         chr10_100014083_100014583   chr10_99759099_99759599  0.000000\n",
       "2         chr10_100014083_100014583   chr10_99824387_99824887  0.000000\n",
       "3         chr10_100014083_100014583   chr10_99841329_99841829  0.000000\n",
       "4         chr10_100014083_100014583   chr10_99875647_99876147  0.000000\n",
       "5         chr10_100014083_100014583   chr10_99882667_99883167 -0.000439\n",
       "...                             ...                       ...       ...\n",
       "22950869     chrX_99976238_99976738    chrX_99974318_99974818 -0.020320\n",
       "22950870     chrX_99976238_99976738    chrX_99975210_99975710  0.117586\n",
       "22950872     chrX_99976238_99976738  chrX_100078706_100079206  0.000000\n",
       "22950873     chrX_99976238_99976738  chrX_100117571_100118071  0.000000\n",
       "22950874     chrX_99976238_99976738  chrX_100118235_100118735  0.000000\n",
       "\n",
       "[22743986 rows x 3 columns]"
      ]
     },
     "execution_count": 5,
     "metadata": {},
     "output_type": "execute_result"
    }
   ],
   "source": [
    "cicero_connections = pd.read_csv(f\"./data/base_grn_outputs/{timepoint}/cicero_connections.csv\", index_col=0)\n",
    "cicero_connections"
   ]
  },
  {
   "cell_type": "markdown",
   "id": "e01452a6-3b6c-4c86-9cbc-976d5d60c749",
   "metadata": {},
   "source": [
    "### 3. Annotate transcription start sites\n",
    "\n",
    "Use mm10 reference genome by setting ref_genome=\"mm10\"."
   ]
  },
  {
   "cell_type": "code",
   "execution_count": 6,
   "id": "9a046534-28e9-4813-85a4-d401e04139e6",
   "metadata": {
    "tags": []
   },
   "outputs": [
    {
     "data": {
      "text/html": [
       "<div>\n",
       "<style scoped>\n",
       "    .dataframe tbody tr th:only-of-type {\n",
       "        vertical-align: middle;\n",
       "    }\n",
       "\n",
       "    .dataframe tbody tr th {\n",
       "        vertical-align: top;\n",
       "    }\n",
       "\n",
       "    .dataframe thead th {\n",
       "        text-align: right;\n",
       "    }\n",
       "</style>\n",
       "<table border=\"1\" class=\"dataframe\">\n",
       "  <thead>\n",
       "    <tr style=\"text-align: right;\">\n",
       "      <th></th>\n",
       "      <th>species</th>\n",
       "      <th>ref_genome</th>\n",
       "      <th>provider</th>\n",
       "    </tr>\n",
       "  </thead>\n",
       "  <tbody>\n",
       "    <tr>\n",
       "      <th>0</th>\n",
       "      <td>Human</td>\n",
       "      <td>hg38</td>\n",
       "      <td>UCSC</td>\n",
       "    </tr>\n",
       "    <tr>\n",
       "      <th>1</th>\n",
       "      <td>Human</td>\n",
       "      <td>hg19</td>\n",
       "      <td>UCSC</td>\n",
       "    </tr>\n",
       "    <tr>\n",
       "      <th>2</th>\n",
       "      <td>Mouse</td>\n",
       "      <td>mm39</td>\n",
       "      <td>UCSC</td>\n",
       "    </tr>\n",
       "    <tr>\n",
       "      <th>3</th>\n",
       "      <td>Mouse</td>\n",
       "      <td>mm10</td>\n",
       "      <td>UCSC</td>\n",
       "    </tr>\n",
       "    <tr>\n",
       "      <th>4</th>\n",
       "      <td>Mouse</td>\n",
       "      <td>mm9</td>\n",
       "      <td>UCSC</td>\n",
       "    </tr>\n",
       "    <tr>\n",
       "      <th>5</th>\n",
       "      <td>S.cerevisiae</td>\n",
       "      <td>sacCer2</td>\n",
       "      <td>UCSC</td>\n",
       "    </tr>\n",
       "    <tr>\n",
       "      <th>6</th>\n",
       "      <td>S.cerevisiae</td>\n",
       "      <td>sacCer3</td>\n",
       "      <td>UCSC</td>\n",
       "    </tr>\n",
       "    <tr>\n",
       "      <th>7</th>\n",
       "      <td>Zebrafish</td>\n",
       "      <td>danRer7</td>\n",
       "      <td>UCSC</td>\n",
       "    </tr>\n",
       "    <tr>\n",
       "      <th>8</th>\n",
       "      <td>Zebrafish</td>\n",
       "      <td>danRer10</td>\n",
       "      <td>UCSC</td>\n",
       "    </tr>\n",
       "    <tr>\n",
       "      <th>9</th>\n",
       "      <td>Zebrafish</td>\n",
       "      <td>danRer11</td>\n",
       "      <td>UCSC</td>\n",
       "    </tr>\n",
       "    <tr>\n",
       "      <th>10</th>\n",
       "      <td>Xenopus tropicalis</td>\n",
       "      <td>xenTro2</td>\n",
       "      <td>UCSC</td>\n",
       "    </tr>\n",
       "    <tr>\n",
       "      <th>11</th>\n",
       "      <td>Xenopus tropicalis</td>\n",
       "      <td>xenTro3</td>\n",
       "      <td>UCSC</td>\n",
       "    </tr>\n",
       "    <tr>\n",
       "      <th>12</th>\n",
       "      <td>Xenopus laevis</td>\n",
       "      <td>Xenopus_laevis_v10.1</td>\n",
       "      <td>NCBI</td>\n",
       "    </tr>\n",
       "    <tr>\n",
       "      <th>13</th>\n",
       "      <td>Rat</td>\n",
       "      <td>rn4</td>\n",
       "      <td>UCSC</td>\n",
       "    </tr>\n",
       "    <tr>\n",
       "      <th>14</th>\n",
       "      <td>Rat</td>\n",
       "      <td>rn5</td>\n",
       "      <td>UCSC</td>\n",
       "    </tr>\n",
       "    <tr>\n",
       "      <th>15</th>\n",
       "      <td>Rat</td>\n",
       "      <td>rn6</td>\n",
       "      <td>UCSC</td>\n",
       "    </tr>\n",
       "    <tr>\n",
       "      <th>16</th>\n",
       "      <td>Drosophila</td>\n",
       "      <td>dm3</td>\n",
       "      <td>UCSC</td>\n",
       "    </tr>\n",
       "    <tr>\n",
       "      <th>17</th>\n",
       "      <td>Drosophila</td>\n",
       "      <td>dm6</td>\n",
       "      <td>UCSC</td>\n",
       "    </tr>\n",
       "    <tr>\n",
       "      <th>18</th>\n",
       "      <td>C.elegans</td>\n",
       "      <td>ce6</td>\n",
       "      <td>UCSC</td>\n",
       "    </tr>\n",
       "    <tr>\n",
       "      <th>19</th>\n",
       "      <td>C.elegans</td>\n",
       "      <td>ce10</td>\n",
       "      <td>UCSC</td>\n",
       "    </tr>\n",
       "    <tr>\n",
       "      <th>20</th>\n",
       "      <td>Arabidopsis</td>\n",
       "      <td>TAIR10</td>\n",
       "      <td>Ensembl</td>\n",
       "    </tr>\n",
       "    <tr>\n",
       "      <th>21</th>\n",
       "      <td>Chicken</td>\n",
       "      <td>galGal4</td>\n",
       "      <td>UCSC</td>\n",
       "    </tr>\n",
       "    <tr>\n",
       "      <th>22</th>\n",
       "      <td>Chicken</td>\n",
       "      <td>galGal5</td>\n",
       "      <td>UCSC</td>\n",
       "    </tr>\n",
       "    <tr>\n",
       "      <th>23</th>\n",
       "      <td>Chicken</td>\n",
       "      <td>galGal6</td>\n",
       "      <td>UCSC</td>\n",
       "    </tr>\n",
       "    <tr>\n",
       "      <th>24</th>\n",
       "      <td>Guinea_Pig</td>\n",
       "      <td>Cavpor3.0</td>\n",
       "      <td>Ensembl</td>\n",
       "    </tr>\n",
       "    <tr>\n",
       "      <th>25</th>\n",
       "      <td>Pig</td>\n",
       "      <td>Sscrofa11.1</td>\n",
       "      <td>Ensembl</td>\n",
       "    </tr>\n",
       "    <tr>\n",
       "      <th>26</th>\n",
       "      <td>Axolotl</td>\n",
       "      <td>AmexG_v6.0-DD</td>\n",
       "      <td>Axolotl-omics.org</td>\n",
       "    </tr>\n",
       "  </tbody>\n",
       "</table>\n",
       "</div>"
      ],
      "text/plain": [
       "               species            ref_genome           provider\n",
       "0                Human                  hg38               UCSC\n",
       "1                Human                  hg19               UCSC\n",
       "2                Mouse                  mm39               UCSC\n",
       "3                Mouse                  mm10               UCSC\n",
       "4                Mouse                   mm9               UCSC\n",
       "5         S.cerevisiae               sacCer2               UCSC\n",
       "6         S.cerevisiae               sacCer3               UCSC\n",
       "7            Zebrafish               danRer7               UCSC\n",
       "8            Zebrafish              danRer10               UCSC\n",
       "9            Zebrafish              danRer11               UCSC\n",
       "10  Xenopus tropicalis               xenTro2               UCSC\n",
       "11  Xenopus tropicalis               xenTro3               UCSC\n",
       "12      Xenopus laevis  Xenopus_laevis_v10.1               NCBI\n",
       "13                 Rat                   rn4               UCSC\n",
       "14                 Rat                   rn5               UCSC\n",
       "15                 Rat                   rn6               UCSC\n",
       "16          Drosophila                   dm3               UCSC\n",
       "17          Drosophila                   dm6               UCSC\n",
       "18           C.elegans                   ce6               UCSC\n",
       "19           C.elegans                  ce10               UCSC\n",
       "20         Arabidopsis                TAIR10            Ensembl\n",
       "21             Chicken               galGal4               UCSC\n",
       "22             Chicken               galGal5               UCSC\n",
       "23             Chicken               galGal6               UCSC\n",
       "24          Guinea_Pig             Cavpor3.0            Ensembl\n",
       "25                 Pig           Sscrofa11.1            Ensembl\n",
       "26             Axolotl         AmexG_v6.0-DD  Axolotl-omics.org"
      ]
     },
     "execution_count": 6,
     "metadata": {},
     "output_type": "execute_result"
    }
   ],
   "source": [
    "ma.SUPPORTED_REF_GENOME"
   ]
  },
  {
   "cell_type": "code",
   "execution_count": 7,
   "id": "3010f209-87d1-4b0e-af01-320a01aac821",
   "metadata": {
    "tags": []
   },
   "outputs": [
    {
     "name": "stdout",
     "output_type": "stream",
     "text": [
      "que bed peaks: 207651\n",
      "tss peaks in que: 27722\n"
     ]
    }
   ],
   "source": [
    "# There seems to be an error in the exporting of peaks from cicero, where 'chr19_24999500_25000000' was saved as 'chr19_24999500_2.5e+07', which causes an error\n",
    "if timepoint == \"E75\":\n",
    "    peaks[132381] = 'chr19_24999500_25000000'\n",
    "\n",
    "tss_annotated = ma.get_tss_info(peak_str_list=peaks, ref_genome=\"mm10\")"
   ]
  },
  {
   "cell_type": "code",
   "execution_count": null,
   "id": "8b18cd4c-4ee9-47a6-aed5-b5bcdc48f4d5",
   "metadata": {},
   "outputs": [],
   "source": []
  },
  {
   "cell_type": "markdown",
   "id": "ce2e1cfd-8d1b-44c1-b9b3-f8a017c8a12e",
   "metadata": {},
   "source": [
    "The output file after the integration process has three columns: [\"peak_id\", \"gene_short_name\", \"coaccess\"].\n",
    "\n",
    "“peak_id” is either the TSS peak or the peaks that have a connection to a TSS peak.\n",
    "\n",
    "“gene_short_name” is the gene name that associated with the TSS site.\n",
    "\n",
    "“coaccess” is the coaccessibility score between the peak and a TSS peak. If the score is 1, it means that the peak is a TSS itself.\n"
   ]
  },
  {
   "cell_type": "code",
   "execution_count": 10,
   "id": "9ee52285-6f91-4d10-9246-1597acb7bbb6",
   "metadata": {
    "tags": []
   },
   "outputs": [
    {
     "data": {
      "text/html": [
       "<div>\n",
       "<style scoped>\n",
       "    .dataframe tbody tr th:only-of-type {\n",
       "        vertical-align: middle;\n",
       "    }\n",
       "\n",
       "    .dataframe tbody tr th {\n",
       "        vertical-align: top;\n",
       "    }\n",
       "\n",
       "    .dataframe thead th {\n",
       "        text-align: right;\n",
       "    }\n",
       "</style>\n",
       "<table border=\"1\" class=\"dataframe\">\n",
       "  <thead>\n",
       "    <tr style=\"text-align: right;\">\n",
       "      <th></th>\n",
       "      <th>chr</th>\n",
       "      <th>start</th>\n",
       "      <th>end</th>\n",
       "      <th>gene_short_name</th>\n",
       "      <th>strand</th>\n",
       "    </tr>\n",
       "  </thead>\n",
       "  <tbody>\n",
       "    <tr>\n",
       "      <th>0</th>\n",
       "      <td>chr12</td>\n",
       "      <td>102757622</td>\n",
       "      <td>102758122</td>\n",
       "      <td>Ubr7</td>\n",
       "      <td>-</td>\n",
       "    </tr>\n",
       "    <tr>\n",
       "      <th>1</th>\n",
       "      <td>chr12</td>\n",
       "      <td>102758265</td>\n",
       "      <td>102758765</td>\n",
       "      <td>Ubr7</td>\n",
       "      <td>-</td>\n",
       "    </tr>\n",
       "    <tr>\n",
       "      <th>2</th>\n",
       "      <td>chr17</td>\n",
       "      <td>24168564</td>\n",
       "      <td>24169064</td>\n",
       "      <td>Atp6v0c-ps2</td>\n",
       "      <td>-</td>\n",
       "    </tr>\n",
       "    <tr>\n",
       "      <th>3</th>\n",
       "      <td>chr17</td>\n",
       "      <td>24169206</td>\n",
       "      <td>24169706</td>\n",
       "      <td>Atp6v0c-ps2</td>\n",
       "      <td>-</td>\n",
       "    </tr>\n",
       "    <tr>\n",
       "      <th>4</th>\n",
       "      <td>chr17</td>\n",
       "      <td>24169744</td>\n",
       "      <td>24170244</td>\n",
       "      <td>Atp6v0c-ps2</td>\n",
       "      <td>-</td>\n",
       "    </tr>\n",
       "    <tr>\n",
       "      <th>...</th>\n",
       "      <td>...</td>\n",
       "      <td>...</td>\n",
       "      <td>...</td>\n",
       "      <td>...</td>\n",
       "      <td>...</td>\n",
       "    </tr>\n",
       "    <tr>\n",
       "      <th>27717</th>\n",
       "      <td>chr5</td>\n",
       "      <td>119200529</td>\n",
       "      <td>119201029</td>\n",
       "      <td>Gm7538</td>\n",
       "      <td>-</td>\n",
       "    </tr>\n",
       "    <tr>\n",
       "      <th>27718</th>\n",
       "      <td>chr12</td>\n",
       "      <td>100899218</td>\n",
       "      <td>100899718</td>\n",
       "      <td>Gpr68</td>\n",
       "      <td>-</td>\n",
       "    </tr>\n",
       "    <tr>\n",
       "      <th>27719</th>\n",
       "      <td>chr4</td>\n",
       "      <td>129490955</td>\n",
       "      <td>129491455</td>\n",
       "      <td>Fam229a</td>\n",
       "      <td>-</td>\n",
       "    </tr>\n",
       "    <tr>\n",
       "      <th>27720</th>\n",
       "      <td>chr4</td>\n",
       "      <td>129491503</td>\n",
       "      <td>129492003</td>\n",
       "      <td>Fam229a</td>\n",
       "      <td>-</td>\n",
       "    </tr>\n",
       "    <tr>\n",
       "      <th>27721</th>\n",
       "      <td>chr17</td>\n",
       "      <td>24473732</td>\n",
       "      <td>24474232</td>\n",
       "      <td>Bricd5</td>\n",
       "      <td>+</td>\n",
       "    </tr>\n",
       "  </tbody>\n",
       "</table>\n",
       "<p>27722 rows × 5 columns</p>\n",
       "</div>"
      ],
      "text/plain": [
       "         chr      start        end gene_short_name strand\n",
       "0      chr12  102757622  102758122            Ubr7      -\n",
       "1      chr12  102758265  102758765            Ubr7      -\n",
       "2      chr17   24168564   24169064     Atp6v0c-ps2      -\n",
       "3      chr17   24169206   24169706     Atp6v0c-ps2      -\n",
       "4      chr17   24169744   24170244     Atp6v0c-ps2      -\n",
       "...      ...        ...        ...             ...    ...\n",
       "27717   chr5  119200529  119201029          Gm7538      -\n",
       "27718  chr12  100899218  100899718           Gpr68      -\n",
       "27719   chr4  129490955  129491455         Fam229a      -\n",
       "27720   chr4  129491503  129492003         Fam229a      -\n",
       "27721  chr17   24473732   24474232          Bricd5      +\n",
       "\n",
       "[27722 rows x 5 columns]"
      ]
     },
     "execution_count": 10,
     "metadata": {},
     "output_type": "execute_result"
    }
   ],
   "source": [
    "tss_annotated"
   ]
  },
  {
   "cell_type": "markdown",
   "id": "798a8681-0d77-4cde-9043-d8a2b6d3273f",
   "metadata": {},
   "source": [
    "### 4. Integrate TSS info and cicero connections\n",
    "The output file after the integration process has three columns: [\"peak_id\", \"gene_short_name\", \"coaccess\"].\n",
    "\n",
    "“peak_id” is either the TSS peak or the peaks that have a connection to a TSS peak.\n",
    "\n",
    "“gene_short_name” is the gene name that associated with the TSS site.\n",
    "\n",
    "“coaccess” is the coaccessibility score between the peak and a TSS peak. If the score is 1, it means that the peak is a TSS itself."
   ]
  },
  {
   "cell_type": "code",
   "execution_count": 11,
   "id": "83a6a393-b63e-4188-bc2d-eceb2dd43ba8",
   "metadata": {
    "tags": []
   },
   "outputs": [
    {
     "name": "stdout",
     "output_type": "stream",
     "text": [
      "(1010927, 3)\n"
     ]
    },
    {
     "data": {
      "text/html": [
       "<div>\n",
       "<style scoped>\n",
       "    .dataframe tbody tr th:only-of-type {\n",
       "        vertical-align: middle;\n",
       "    }\n",
       "\n",
       "    .dataframe tbody tr th {\n",
       "        vertical-align: top;\n",
       "    }\n",
       "\n",
       "    .dataframe thead th {\n",
       "        text-align: right;\n",
       "    }\n",
       "</style>\n",
       "<table border=\"1\" class=\"dataframe\">\n",
       "  <thead>\n",
       "    <tr style=\"text-align: right;\">\n",
       "      <th></th>\n",
       "      <th>peak_id</th>\n",
       "      <th>gene_short_name</th>\n",
       "      <th>coaccess</th>\n",
       "    </tr>\n",
       "  </thead>\n",
       "  <tbody>\n",
       "    <tr>\n",
       "      <th>0</th>\n",
       "      <td>chr10_100015474_100015974</td>\n",
       "      <td>Kitl</td>\n",
       "      <td>1.000000</td>\n",
       "    </tr>\n",
       "    <tr>\n",
       "      <th>1</th>\n",
       "      <td>chr10_100015474_100015974</td>\n",
       "      <td>Tmtc3</td>\n",
       "      <td>0.075208</td>\n",
       "    </tr>\n",
       "    <tr>\n",
       "      <th>2</th>\n",
       "      <td>chr10_100016014_100016514</td>\n",
       "      <td>Kitl</td>\n",
       "      <td>0.313336</td>\n",
       "    </tr>\n",
       "    <tr>\n",
       "      <th>3</th>\n",
       "      <td>chr10_100016014_100016514</td>\n",
       "      <td>Tmtc3</td>\n",
       "      <td>0.007878</td>\n",
       "    </tr>\n",
       "    <tr>\n",
       "      <th>4</th>\n",
       "      <td>chr10_100017557_100018057</td>\n",
       "      <td>Kitl</td>\n",
       "      <td>0.017153</td>\n",
       "    </tr>\n",
       "  </tbody>\n",
       "</table>\n",
       "</div>"
      ],
      "text/plain": [
       "                     peak_id gene_short_name  coaccess\n",
       "0  chr10_100015474_100015974            Kitl  1.000000\n",
       "1  chr10_100015474_100015974           Tmtc3  0.075208\n",
       "2  chr10_100016014_100016514            Kitl  0.313336\n",
       "3  chr10_100016014_100016514           Tmtc3  0.007878\n",
       "4  chr10_100017557_100018057            Kitl  0.017153"
      ]
     },
     "execution_count": 11,
     "metadata": {},
     "output_type": "execute_result"
    }
   ],
   "source": [
    "integrated = ma.integrate_tss_peak_with_cicero(tss_peak=tss_annotated,\n",
    "                                               cicero_connections=cicero_connections)\n",
    "print(integrated.shape)\n",
    "integrated.head()"
   ]
  },
  {
   "cell_type": "markdown",
   "id": "5655f3c8-409c-42dd-b6c7-49bc15b47d47",
   "metadata": {},
   "source": [
    "### 5. Filter peaks\n",
    "Remove peaks with weak coaccessibility scores."
   ]
  },
  {
   "cell_type": "code",
   "execution_count": 11,
   "id": "287fe3b3-00fe-4029-a940-90ad1b006882",
   "metadata": {
    "tags": []
   },
   "outputs": [],
   "source": [
    "peak = integrated[integrated.coaccess >= 0.8]\n",
    "peak = peak[[\"peak_id\", \"gene_short_name\"]].reset_index(drop=True)"
   ]
  },
  {
   "cell_type": "code",
   "execution_count": 12,
   "id": "d60afa5c-8e86-4218-a7a4-65f87df371f6",
   "metadata": {
    "tags": []
   },
   "outputs": [
    {
     "name": "stdout",
     "output_type": "stream",
     "text": [
      "(25905, 2)\n"
     ]
    },
    {
     "data": {
      "text/html": [
       "<div>\n",
       "<style scoped>\n",
       "    .dataframe tbody tr th:only-of-type {\n",
       "        vertical-align: middle;\n",
       "    }\n",
       "\n",
       "    .dataframe tbody tr th {\n",
       "        vertical-align: top;\n",
       "    }\n",
       "\n",
       "    .dataframe thead th {\n",
       "        text-align: right;\n",
       "    }\n",
       "</style>\n",
       "<table border=\"1\" class=\"dataframe\">\n",
       "  <thead>\n",
       "    <tr style=\"text-align: right;\">\n",
       "      <th></th>\n",
       "      <th>peak_id</th>\n",
       "      <th>gene_short_name</th>\n",
       "    </tr>\n",
       "  </thead>\n",
       "  <tbody>\n",
       "    <tr>\n",
       "      <th>0</th>\n",
       "      <td>chr10_100015519_100016019</td>\n",
       "      <td>Kitl</td>\n",
       "    </tr>\n",
       "    <tr>\n",
       "      <th>1</th>\n",
       "      <td>chr10_100487279_100487779</td>\n",
       "      <td>Tmtc3</td>\n",
       "    </tr>\n",
       "    <tr>\n",
       "      <th>2</th>\n",
       "      <td>chr10_100487943_100488443</td>\n",
       "      <td>Cep290</td>\n",
       "    </tr>\n",
       "    <tr>\n",
       "      <th>3</th>\n",
       "      <td>chr10_100487943_100488443</td>\n",
       "      <td>Tmtc3</td>\n",
       "    </tr>\n",
       "    <tr>\n",
       "      <th>4</th>\n",
       "      <td>chr10_100589013_100589513</td>\n",
       "      <td>4930430F08Rik</td>\n",
       "    </tr>\n",
       "  </tbody>\n",
       "</table>\n",
       "</div>"
      ],
      "text/plain": [
       "                     peak_id gene_short_name\n",
       "0  chr10_100015519_100016019            Kitl\n",
       "1  chr10_100487279_100487779           Tmtc3\n",
       "2  chr10_100487943_100488443          Cep290\n",
       "3  chr10_100487943_100488443           Tmtc3\n",
       "4  chr10_100589013_100589513   4930430F08Rik"
      ]
     },
     "execution_count": 12,
     "metadata": {},
     "output_type": "execute_result"
    }
   ],
   "source": [
    "print(peak.shape)\n",
    "peak.head()"
   ]
  },
  {
   "cell_type": "markdown",
   "id": "10293bff-990c-4fc8-9b05-312465f0d936",
   "metadata": {},
   "source": [
    "### 6. Save data\n",
    "Save the promoter/enhancer peaks."
   ]
  },
  {
   "cell_type": "code",
   "execution_count": 13,
   "id": "6c5406b1-7a31-4e76-9c87-a18fd4772a2d",
   "metadata": {
    "tags": []
   },
   "outputs": [],
   "source": [
    "peak.to_csv(f\"./data/base_grn_outputs/{timepoint}/processed_peak_file.csv\")"
   ]
  }
 ],
 "metadata": {
  "kernelspec": {
   "display_name": "celloracle_env",
   "language": "python",
   "name": "celloracle_env"
  },
  "language_info": {
   "codemirror_mode": {
    "name": "ipython",
    "version": 3
   },
   "file_extension": ".py",
   "mimetype": "text/x-python",
   "name": "python",
   "nbconvert_exporter": "python",
   "pygments_lexer": "ipython3",
   "version": "3.8.18"
  }
 },
 "nbformat": 4,
 "nbformat_minor": 5
}
