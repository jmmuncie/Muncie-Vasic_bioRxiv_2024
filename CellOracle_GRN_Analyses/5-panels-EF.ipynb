{
 "cells": [
  {
   "cell_type": "markdown",
   "id": "b3f36f28-2b85-46bb-ba3b-933f6ce8ad4a",
   "metadata": {},
   "source": [
    "# Figure 6, Panels E and F"
   ]
  },
  {
   "cell_type": "code",
   "execution_count": 1,
   "id": "bcc762fe-ae9c-4c3b-add5-d5d07db16ced",
   "metadata": {
    "tags": []
   },
   "outputs": [],
   "source": [
    "# 0. Import\n",
    "import os\n",
    "import sys\n",
    "\n",
    "import matplotlib.pyplot as plt\n",
    "from matplotlib_venn import venn3, venn2\n",
    "import numpy as np\n",
    "import pandas as pd\n",
    "import scanpy as sc\n",
    "import seaborn as sns\n",
    "\n",
    "from scipy.io import mmread\n",
    "from scipy.sparse import csr_matrix"
   ]
  },
  {
   "cell_type": "code",
   "execution_count": 2,
   "id": "19b9d6ec-967f-4cbb-8e2f-727942bd2a96",
   "metadata": {
    "tags": []
   },
   "outputs": [
    {
     "name": "stderr",
     "output_type": "stream",
     "text": [
      "which: no R in (/apps/software/standard/core/jupyterlab/3.6.3-py3.11:/apps/software/standard/core/jupyterlab/3.6.3-py3.11/sbin:/apps/software/standard/core/jupyterlab/3.6.3-py3.11/bin:/home/apc5un/bedtools2/bin:/opt/mam/9.1.2/bin:/usr/local/bin:/usr/bin:/usr/local/sbin:/usr/sbin:/opt/slurm/current/bin:/opt/singularity/current/bin:/opt/rci/bin:/share/rci_apps/common/bin:/share/resources/HPCtools:/opt/mam/current/bin:/opt/apptainer/current/bin)\n"
     ]
    },
    {
     "data": {
      "text/plain": [
       "'0.14.0'"
      ]
     },
     "execution_count": 2,
     "metadata": {},
     "output_type": "execute_result"
    }
   ],
   "source": [
    "import warnings\n",
    "warnings.filterwarnings('ignore')\n",
    "from celloracle import motif_analysis as ma\n",
    "import celloracle as co\n",
    "co.__version__"
   ]
  },
  {
   "cell_type": "code",
   "execution_count": 3,
   "id": "16c3e24d-f90f-4e7e-9e09-03d6de240eb5",
   "metadata": {
    "tags": []
   },
   "outputs": [],
   "source": [
    "# visualization settings\n",
    "%config InlineBackend.figure_format = 'retina'\n",
    "%matplotlib inline\n",
    "\n",
    "plt.rcParams['figure.figsize'] = [6, 4.5]\n",
    "plt.rcParams[\"savefig.dpi\"] = 300"
   ]
  },
  {
   "cell_type": "markdown",
   "id": "324df875-6aa9-44b9-8dcc-778f83575d2a",
   "metadata": {},
   "source": [
    "## Make 12,000-edge Gephi-compatible files\n",
    "\n",
    "Only doing this for E8.5 and E9 networks. Final hairballs made in Gephi."
   ]
  },
  {
   "cell_type": "code",
   "execution_count": 4,
   "id": "7b5b5802-a955-44ce-823a-71ddacf5d55e",
   "metadata": {
    "tags": []
   },
   "outputs": [],
   "source": [
    "links_wt_e85 = co.load_hdf5(file_path=\"./data/celloracle/e85/WT_cardiac-subset-links.celloracle.links\")\n",
    "links_wt_e9 = co.load_hdf5(file_path=\"./data/celloracle/e9/WT_cardiac-subset-links.celloracle.links\")\n",
    "\n",
    "links_ko_e85 = co.load_hdf5(file_path=\"./data/celloracle/e85/KO_cardiac-subset-links.celloracle.links\")\n",
    "links_ko_e9 = co.load_hdf5(file_path=\"./data/celloracle/e9/KO_cardiac-subset-links.celloracle.links\")"
   ]
  },
  {
   "cell_type": "code",
   "execution_count": 5,
   "id": "dfdbb463-a990-4c36-a90f-80fbcc25e0eb",
   "metadata": {
    "tags": []
   },
   "outputs": [
    {
     "data": {
      "text/html": [
       "<div>\n",
       "<style scoped>\n",
       "    .dataframe tbody tr th:only-of-type {\n",
       "        vertical-align: middle;\n",
       "    }\n",
       "\n",
       "    .dataframe tbody tr th {\n",
       "        vertical-align: top;\n",
       "    }\n",
       "\n",
       "    .dataframe thead th {\n",
       "        text-align: right;\n",
       "    }\n",
       "</style>\n",
       "<table border=\"1\" class=\"dataframe\">\n",
       "  <thead>\n",
       "    <tr style=\"text-align: right;\">\n",
       "      <th></th>\n",
       "      <th>source</th>\n",
       "      <th>target</th>\n",
       "      <th>coef_mean</th>\n",
       "      <th>coef_abs</th>\n",
       "      <th>p</th>\n",
       "      <th>-logp</th>\n",
       "    </tr>\n",
       "  </thead>\n",
       "  <tbody>\n",
       "    <tr>\n",
       "      <th>75646</th>\n",
       "      <td>Nkx2-5</td>\n",
       "      <td>Hspd1</td>\n",
       "      <td>-0.021870</td>\n",
       "      <td>0.021870</td>\n",
       "      <td>6.048811e-27</td>\n",
       "      <td>26.218330</td>\n",
       "    </tr>\n",
       "    <tr>\n",
       "      <th>130224</th>\n",
       "      <td>Gli1</td>\n",
       "      <td>Prom1</td>\n",
       "      <td>0.027861</td>\n",
       "      <td>0.027861</td>\n",
       "      <td>8.110916e-27</td>\n",
       "      <td>26.090930</td>\n",
       "    </tr>\n",
       "    <tr>\n",
       "      <th>103690</th>\n",
       "      <td>Nkx2-5</td>\n",
       "      <td>Myh6</td>\n",
       "      <td>0.166351</td>\n",
       "      <td>0.166351</td>\n",
       "      <td>5.653225e-26</td>\n",
       "      <td>25.247704</td>\n",
       "    </tr>\n",
       "    <tr>\n",
       "      <th>193268</th>\n",
       "      <td>Klf12</td>\n",
       "      <td>Zfp503</td>\n",
       "      <td>0.017696</td>\n",
       "      <td>0.017696</td>\n",
       "      <td>4.921638e-25</td>\n",
       "      <td>24.307890</td>\n",
       "    </tr>\n",
       "    <tr>\n",
       "      <th>166675</th>\n",
       "      <td>Klf12</td>\n",
       "      <td>Svep1</td>\n",
       "      <td>0.035120</td>\n",
       "      <td>0.035120</td>\n",
       "      <td>5.317990e-25</td>\n",
       "      <td>24.274253</td>\n",
       "    </tr>\n",
       "    <tr>\n",
       "      <th>...</th>\n",
       "      <td>...</td>\n",
       "      <td>...</td>\n",
       "      <td>...</td>\n",
       "      <td>...</td>\n",
       "      <td>...</td>\n",
       "      <td>...</td>\n",
       "    </tr>\n",
       "    <tr>\n",
       "      <th>171167</th>\n",
       "      <td>Sp5</td>\n",
       "      <td>Thbs3</td>\n",
       "      <td>0.000507</td>\n",
       "      <td>0.000507</td>\n",
       "      <td>9.989590e-04</td>\n",
       "      <td>3.000452</td>\n",
       "    </tr>\n",
       "    <tr>\n",
       "      <th>83294</th>\n",
       "      <td>Myc</td>\n",
       "      <td>Kcnq3</td>\n",
       "      <td>0.001513</td>\n",
       "      <td>0.001513</td>\n",
       "      <td>9.990317e-04</td>\n",
       "      <td>3.000421</td>\n",
       "    </tr>\n",
       "    <tr>\n",
       "      <th>43198</th>\n",
       "      <td>Klf3</td>\n",
       "      <td>Dkc1</td>\n",
       "      <td>-0.002243</td>\n",
       "      <td>0.002243</td>\n",
       "      <td>9.993684e-04</td>\n",
       "      <td>3.000274</td>\n",
       "    </tr>\n",
       "    <tr>\n",
       "      <th>130679</th>\n",
       "      <td>Atf6</td>\n",
       "      <td>Prrc2c</td>\n",
       "      <td>0.001036</td>\n",
       "      <td>0.001036</td>\n",
       "      <td>9.996912e-04</td>\n",
       "      <td>3.000134</td>\n",
       "    </tr>\n",
       "    <tr>\n",
       "      <th>130531</th>\n",
       "      <td>E2f1</td>\n",
       "      <td>Prr14l</td>\n",
       "      <td>-0.001036</td>\n",
       "      <td>0.001036</td>\n",
       "      <td>9.997443e-04</td>\n",
       "      <td>3.000111</td>\n",
       "    </tr>\n",
       "  </tbody>\n",
       "</table>\n",
       "<p>160071 rows × 6 columns</p>\n",
       "</div>"
      ],
      "text/plain": [
       "        source  target  coef_mean  coef_abs             p      -logp\n",
       "75646   Nkx2-5   Hspd1  -0.021870  0.021870  6.048811e-27  26.218330\n",
       "130224    Gli1   Prom1   0.027861  0.027861  8.110916e-27  26.090930\n",
       "103690  Nkx2-5    Myh6   0.166351  0.166351  5.653225e-26  25.247704\n",
       "193268   Klf12  Zfp503   0.017696  0.017696  4.921638e-25  24.307890\n",
       "166675   Klf12   Svep1   0.035120  0.035120  5.317990e-25  24.274253\n",
       "...        ...     ...        ...       ...           ...        ...\n",
       "171167     Sp5   Thbs3   0.000507  0.000507  9.989590e-04   3.000452\n",
       "83294      Myc   Kcnq3   0.001513  0.001513  9.990317e-04   3.000421\n",
       "43198     Klf3    Dkc1  -0.002243  0.002243  9.993684e-04   3.000274\n",
       "130679    Atf6  Prrc2c   0.001036  0.001036  9.996912e-04   3.000134\n",
       "130531    E2f1  Prr14l  -0.001036  0.001036  9.997443e-04   3.000111\n",
       "\n",
       "[160071 rows x 6 columns]"
      ]
     },
     "execution_count": 5,
     "metadata": {},
     "output_type": "execute_result"
    }
   ],
   "source": [
    "links_wt_e85.filter_links(p=0.001, weight=\"coef_abs\", threshold_number=12000)\n",
    "links_wt_e85.filtered_links['IFT-CMs_WT'].sort_values('p')"
   ]
  },
  {
   "cell_type": "code",
   "execution_count": 6,
   "id": "d112538d-8ff3-497d-bc21-627eb07db5ce",
   "metadata": {
    "tags": []
   },
   "outputs": [],
   "source": [
    "links_dict = {}\n",
    "\n",
    "for timepoint, wt_or_ko in [['85', 'WT'], ['85', 'KO'], ['9', 'WT'], ['9', 'KO']]:\n",
    "    links = co.load_hdf5(file_path=f\"./data/celloracle/e{timepoint}/{wt_or_ko}_cardiac-subset-links.celloracle.links\")\n",
    "\n",
    "    links.filter_links(p=0.001, weight=\"coef_abs\", threshold_number=12500)\n",
    "    filtered_df = links.filtered_links\n",
    "\n",
    "    for cluster in filtered_df.keys():\n",
    "        df = filtered_df[cluster]\n",
    "        \n",
    "        if wt_or_ko == 'KO':\n",
    "            df = df.drop(df[df['source'] == 'Mef2c'].index)\n",
    "\n",
    "        df = df.sort_values('coef_abs', ascending=False).iloc[:12000,:]\n",
    "\n",
    "        sources = df['source'].unique()\n",
    "        targets = df['target'].unique()\n",
    "\n",
    "        # Create a zero matrix\n",
    "        matrix = pd.DataFrame(np.zeros((len(sources), len(targets))), index=sources, columns=targets)\n",
    "\n",
    "        # Populate the matrix with coef_mean values\n",
    "        for index, row in df.iterrows():\n",
    "            matrix.at[row['source'], row['target']] = row['coef_mean']\n",
    "\n",
    "        matrix.to_csv(f\"./data/celloracle/e{timepoint}/{wt_or_ko}_{cluster}_gephi.csv\")"
   ]
  },
  {
   "cell_type": "code",
   "execution_count": null,
   "id": "4d1ac158-eb54-4c71-815c-93847eeb229d",
   "metadata": {},
   "outputs": [],
   "source": []
  }
 ],
 "metadata": {
  "kernelspec": {
   "display_name": "celloracle_env",
   "language": "python",
   "name": "celloracle_env"
  },
  "language_info": {
   "codemirror_mode": {
    "name": "ipython",
    "version": 3
   },
   "file_extension": ".py",
   "mimetype": "text/x-python",
   "name": "python",
   "nbconvert_exporter": "python",
   "pygments_lexer": "ipython3",
   "version": "3.8.18"
  }
 },
 "nbformat": 4,
 "nbformat_minor": 5
}
